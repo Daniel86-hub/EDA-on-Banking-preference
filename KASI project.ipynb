{
 "cells": [
  {
   "cell_type": "code",
   "execution_count": 1,
   "id": "d05e6def",
   "metadata": {},
   "outputs": [],
   "source": [
    "import pandas as pd\n",
    "import numpy as np\n",
    "import matplotlib.pyplot as plt\n",
    "import seaborn as sns\n",
    "import os"
   ]
  },
  {
   "cell_type": "code",
   "execution_count": 2,
   "id": "eab3d1cb",
   "metadata": {},
   "outputs": [],
   "source": [
    "os.chdir(r\"C:\\Users\\Daniel\\Documents\\Feature Engineering\\KASI\")"
   ]
  },
  {
   "cell_type": "code",
   "execution_count": 3,
   "id": "a8356c50",
   "metadata": {},
   "outputs": [
    {
     "data": {
      "text/plain": [
       "'C:\\\\Users\\\\Daniel\\\\Documents\\\\Feature Engineering\\\\KASI'"
      ]
     },
     "execution_count": 3,
     "metadata": {},
     "output_type": "execute_result"
    }
   ],
   "source": [
    "os.getcwd()"
   ]
  },
  {
   "cell_type": "code",
   "execution_count": 4,
   "id": "459b4ea2",
   "metadata": {},
   "outputs": [
    {
     "data": {
      "text/html": [
       "<div>\n",
       "<style scoped>\n",
       "    .dataframe tbody tr th:only-of-type {\n",
       "        vertical-align: middle;\n",
       "    }\n",
       "\n",
       "    .dataframe tbody tr th {\n",
       "        vertical-align: top;\n",
       "    }\n",
       "\n",
       "    .dataframe thead th {\n",
       "        text-align: right;\n",
       "    }\n",
       "</style>\n",
       "<table border=\"1\" class=\"dataframe\">\n",
       "  <thead>\n",
       "    <tr style=\"text-align: right;\">\n",
       "      <th></th>\n",
       "      <th>Timestamp</th>\n",
       "      <th>Has it become more difficult or easier to find a job in your city?</th>\n",
       "      <th>Compared to the last 6 months, are you able to spend more, the same or less money on large purchases (furniture, electrical appliances) over the next 6 months?</th>\n",
       "      <th>How do you expect your (household’s) income to change over the next 6 months?</th>\n",
       "      <th>Gender</th>\n",
       "      <th>Age</th>\n",
       "      <th>What's your highest level of education?</th>\n",
       "      <th>Occupation</th>\n",
       "      <th>Please select your country to continue</th>\n",
       "      <th>What's your highest level of education? .1</th>\n",
       "      <th>...</th>\n",
       "      <th>Which one of the below banks do you use the most?.2</th>\n",
       "      <th>How would you rate your overall satisfaction with your bank?</th>\n",
       "      <th>Thinking back over the past year, tell us about something that happened that made you particularly happy with your bank.</th>\n",
       "      <th>Thinking back over the past year, tell us about something that happened that made you particularly unhappy with your bank.</th>\n",
       "      <th>During the past year, did you recommend your bank to anyone? \\t \\t</th>\n",
       "      <th>How do you usually find out about new products at the bank</th>\n",
       "      <th>How likely would you recommend your bank to friends/family?</th>\n",
       "      <th>The below images show a bank website and offering, choose the interface that is easiest to use</th>\n",
       "      <th>Tell us the reasons behind your choice</th>\n",
       "      <th>What will make you stay with your bank for the next 2 years ?</th>\n",
       "    </tr>\n",
       "  </thead>\n",
       "  <tbody>\n",
       "    <tr>\n",
       "      <th>0</th>\n",
       "      <td>2019-10-20 09:46:09.993</td>\n",
       "      <td>Same</td>\n",
       "      <td>Less</td>\n",
       "      <td>Improve</td>\n",
       "      <td>Female</td>\n",
       "      <td>30-34</td>\n",
       "      <td>Master's degree</td>\n",
       "      <td>Salaried employee</td>\n",
       "      <td>Cameroon</td>\n",
       "      <td>NaN</td>\n",
       "      <td>...</td>\n",
       "      <td>NaN</td>\n",
       "      <td>NaN</td>\n",
       "      <td>NaN</td>\n",
       "      <td>NaN</td>\n",
       "      <td>NaN</td>\n",
       "      <td>NaN</td>\n",
       "      <td>NaN</td>\n",
       "      <td>NaN</td>\n",
       "      <td>NaN</td>\n",
       "      <td>NaN</td>\n",
       "    </tr>\n",
       "    <tr>\n",
       "      <th>1</th>\n",
       "      <td>2019-10-20 09:56:32.419</td>\n",
       "      <td>Same</td>\n",
       "      <td>Same</td>\n",
       "      <td>Stay the same</td>\n",
       "      <td>Male</td>\n",
       "      <td>25-29</td>\n",
       "      <td>Bachelor’s degree</td>\n",
       "      <td>Commission-based employee</td>\n",
       "      <td>Nigeria</td>\n",
       "      <td>NaN</td>\n",
       "      <td>...</td>\n",
       "      <td>NaN</td>\n",
       "      <td>4.0</td>\n",
       "      <td>Response time to my transaction</td>\n",
       "      <td>Unresolved issues with payment</td>\n",
       "      <td>Yes</td>\n",
       "      <td>Emails, Social media</td>\n",
       "      <td>8.0</td>\n",
       "      <td>Image 2</td>\n",
       "      <td>It's more user interactive</td>\n",
       "      <td>My bank is genuinely interested in my financia...</td>\n",
       "    </tr>\n",
       "    <tr>\n",
       "      <th>2</th>\n",
       "      <td>2019-10-20 23:56:41.617</td>\n",
       "      <td>Same</td>\n",
       "      <td>Same</td>\n",
       "      <td>Stay the same</td>\n",
       "      <td>Male</td>\n",
       "      <td>45-54</td>\n",
       "      <td>Trade</td>\n",
       "      <td>Business owner</td>\n",
       "      <td>South Africa</td>\n",
       "      <td>vocational training</td>\n",
       "      <td>...</td>\n",
       "      <td>NaN</td>\n",
       "      <td>4.0</td>\n",
       "      <td>Nothing</td>\n",
       "      <td>Nothing</td>\n",
       "      <td>No, but I didn’t have an opportunity</td>\n",
       "      <td>TV, SMS</td>\n",
       "      <td>7.0</td>\n",
       "      <td>Image 2</td>\n",
       "      <td>It's short</td>\n",
       "      <td>My bank is genuinely interested in my financia...</td>\n",
       "    </tr>\n",
       "    <tr>\n",
       "      <th>3</th>\n",
       "      <td>2019-10-21 03:21:10.459</td>\n",
       "      <td>Difficult</td>\n",
       "      <td>Less</td>\n",
       "      <td>Worsen</td>\n",
       "      <td>Female</td>\n",
       "      <td>25-29</td>\n",
       "      <td>No formal schooling</td>\n",
       "      <td>Salaried employee</td>\n",
       "      <td>Tanzania</td>\n",
       "      <td>NaN</td>\n",
       "      <td>...</td>\n",
       "      <td>I don't have a bank account</td>\n",
       "      <td>NaN</td>\n",
       "      <td>NaN</td>\n",
       "      <td>NaN</td>\n",
       "      <td>NaN</td>\n",
       "      <td>NaN</td>\n",
       "      <td>NaN</td>\n",
       "      <td>NaN</td>\n",
       "      <td>NaN</td>\n",
       "      <td>NaN</td>\n",
       "    </tr>\n",
       "    <tr>\n",
       "      <th>4</th>\n",
       "      <td>2019-10-21 03:19:32.931</td>\n",
       "      <td>Difficult</td>\n",
       "      <td>Less</td>\n",
       "      <td>Worsen</td>\n",
       "      <td>Male</td>\n",
       "      <td>25-29</td>\n",
       "      <td>No formal schooling</td>\n",
       "      <td>Salaried employee</td>\n",
       "      <td>Tanzania</td>\n",
       "      <td>NaN</td>\n",
       "      <td>...</td>\n",
       "      <td>I don't have a bank account</td>\n",
       "      <td>NaN</td>\n",
       "      <td>NaN</td>\n",
       "      <td>NaN</td>\n",
       "      <td>NaN</td>\n",
       "      <td>NaN</td>\n",
       "      <td>NaN</td>\n",
       "      <td>NaN</td>\n",
       "      <td>NaN</td>\n",
       "      <td>NaN</td>\n",
       "    </tr>\n",
       "  </tbody>\n",
       "</table>\n",
       "<p>5 rows × 24 columns</p>\n",
       "</div>"
      ],
      "text/plain": [
       "                Timestamp  \\\n",
       "0 2019-10-20 09:46:09.993   \n",
       "1 2019-10-20 09:56:32.419   \n",
       "2 2019-10-20 23:56:41.617   \n",
       "3 2019-10-21 03:21:10.459   \n",
       "4 2019-10-21 03:19:32.931   \n",
       "\n",
       "  Has it become more difficult or easier to find a job in your city?   \\\n",
       "0                                              Same                     \n",
       "1                                              Same                     \n",
       "2                                              Same                     \n",
       "3                                         Difficult                     \n",
       "4                                         Difficult                     \n",
       "\n",
       "  Compared to the last 6 months, are you able to spend more, the same or less money on large purchases (furniture, electrical appliances) over the next 6 months?   \\\n",
       "0                                              Less                                                                                                                  \n",
       "1                                              Same                                                                                                                  \n",
       "2                                              Same                                                                                                                  \n",
       "3                                              Less                                                                                                                  \n",
       "4                                              Less                                                                                                                  \n",
       "\n",
       "  How do you expect your (household’s) income to change over the next 6 months?   \\\n",
       "0                                           Improve                                \n",
       "1                                     Stay the same                                \n",
       "2                                     Stay the same                                \n",
       "3                                            Worsen                                \n",
       "4                                            Worsen                                \n",
       "\n",
       "   Gender    Age  What's your highest level of education?   \\\n",
       "0  Female   30-34                         Master's degree    \n",
       "1    Male   25-29                       Bachelor’s degree    \n",
       "2    Male   45-54                                    Trade   \n",
       "3  Female   25-29                     No formal schooling    \n",
       "4    Male   25-29                     No formal schooling    \n",
       "\n",
       "                  Occupation  Please select your country to continue  \\\n",
       "0          Salaried employee                                Cameroon   \n",
       "1  Commission-based employee                                 Nigeria   \n",
       "2             Business owner                            South Africa   \n",
       "3          Salaried employee                                Tanzania   \n",
       "4          Salaried employee                                Tanzania   \n",
       "\n",
       "  What's your highest level of education? .1  ...  \\\n",
       "0                                        NaN  ...   \n",
       "1                                        NaN  ...   \n",
       "2                       vocational training   ...   \n",
       "3                                        NaN  ...   \n",
       "4                                        NaN  ...   \n",
       "\n",
       "  Which one of the below banks do you use the most?.2  \\\n",
       "0                                                NaN    \n",
       "1                                                NaN    \n",
       "2                                                NaN    \n",
       "3                        I don't have a bank account    \n",
       "4                        I don't have a bank account    \n",
       "\n",
       "  How would you rate your overall satisfaction with your bank?    \\\n",
       "0                                                NaN               \n",
       "1                                                4.0               \n",
       "2                                                4.0               \n",
       "3                                                NaN               \n",
       "4                                                NaN               \n",
       "\n",
       "  Thinking back over the past year, tell us about something that happened that made you particularly happy with your bank.    \\\n",
       "0                                                NaN                                                                           \n",
       "1                   Response time to my transaction                                                                            \n",
       "2                                            Nothing                                                                           \n",
       "3                                                NaN                                                                           \n",
       "4                                                NaN                                                                           \n",
       "\n",
       "  Thinking back over the past year, tell us about something that happened that made you particularly unhappy with your bank.    \\\n",
       "0                                                NaN                                                                             \n",
       "1                    Unresolved issues with payment                                                                              \n",
       "2                                            Nothing                                                                             \n",
       "3                                                NaN                                                                             \n",
       "4                                                NaN                                                                             \n",
       "\n",
       "  During the past year, did you recommend your bank to anyone? \\t \\t  \\\n",
       "0                                                NaN                   \n",
       "1                                                Yes                   \n",
       "2               No, but I didn’t have an opportunity                   \n",
       "3                                                NaN                   \n",
       "4                                                NaN                   \n",
       "\n",
       "   How do you usually find out about new products at the bank  \\\n",
       "0                                                NaN            \n",
       "1                               Emails, Social media            \n",
       "2                                            TV, SMS            \n",
       "3                                                NaN            \n",
       "4                                                NaN            \n",
       "\n",
       "  How likely would you recommend your bank to friends/family?  \\\n",
       "0                                                NaN            \n",
       "1                                                8.0            \n",
       "2                                                7.0            \n",
       "3                                                NaN            \n",
       "4                                                NaN            \n",
       "\n",
       "  The below images show a bank website and offering, choose the interface that is easiest to use  \\\n",
       "0                                                NaN                                               \n",
       "1                                            Image 2                                               \n",
       "2                                            Image 2                                               \n",
       "3                                                NaN                                               \n",
       "4                                                NaN                                               \n",
       "\n",
       "  Tell us the reasons behind your choice  \\\n",
       "0                                    NaN   \n",
       "1            It's more user interactive    \n",
       "2                             It's short   \n",
       "3                                    NaN   \n",
       "4                                    NaN   \n",
       "\n",
       "  What will make you stay with your bank for the next 2 years ?  \n",
       "0                                                NaN             \n",
       "1  My bank is genuinely interested in my financia...             \n",
       "2  My bank is genuinely interested in my financia...             \n",
       "3                                                NaN             \n",
       "4                                                NaN             \n",
       "\n",
       "[5 rows x 24 columns]"
      ]
     },
     "execution_count": 4,
     "metadata": {},
     "output_type": "execute_result"
    }
   ],
   "source": [
    "df=pd.read_excel(\"kasi.xlsx\")\n",
    "df.head()"
   ]
  },
  {
   "cell_type": "code",
   "execution_count": 5,
   "id": "5ed23eea",
   "metadata": {},
   "outputs": [
    {
     "data": {
      "text/plain": [
       "(3263, 24)"
      ]
     },
     "execution_count": 5,
     "metadata": {},
     "output_type": "execute_result"
    }
   ],
   "source": [
    "df.shape"
   ]
  },
  {
   "cell_type": "code",
   "execution_count": 6,
   "id": "512eec0b",
   "metadata": {},
   "outputs": [
    {
     "data": {
      "text/html": [
       "<div>\n",
       "<style scoped>\n",
       "    .dataframe tbody tr th:only-of-type {\n",
       "        vertical-align: middle;\n",
       "    }\n",
       "\n",
       "    .dataframe tbody tr th {\n",
       "        vertical-align: top;\n",
       "    }\n",
       "\n",
       "    .dataframe thead th {\n",
       "        text-align: right;\n",
       "    }\n",
       "</style>\n",
       "<table border=\"1\" class=\"dataframe\">\n",
       "  <thead>\n",
       "    <tr style=\"text-align: right;\">\n",
       "      <th></th>\n",
       "      <th>How would you rate your overall satisfaction with your bank?</th>\n",
       "      <th>How likely would you recommend your bank to friends/family?</th>\n",
       "    </tr>\n",
       "  </thead>\n",
       "  <tbody>\n",
       "    <tr>\n",
       "      <th>count</th>\n",
       "      <td>1889.000000</td>\n",
       "      <td>1889.000000</td>\n",
       "    </tr>\n",
       "    <tr>\n",
       "      <th>mean</th>\n",
       "      <td>3.615140</td>\n",
       "      <td>6.617787</td>\n",
       "    </tr>\n",
       "    <tr>\n",
       "      <th>std</th>\n",
       "      <td>0.829542</td>\n",
       "      <td>1.924976</td>\n",
       "    </tr>\n",
       "    <tr>\n",
       "      <th>min</th>\n",
       "      <td>1.000000</td>\n",
       "      <td>0.000000</td>\n",
       "    </tr>\n",
       "    <tr>\n",
       "      <th>25%</th>\n",
       "      <td>3.000000</td>\n",
       "      <td>6.000000</td>\n",
       "    </tr>\n",
       "    <tr>\n",
       "      <th>50%</th>\n",
       "      <td>4.000000</td>\n",
       "      <td>7.000000</td>\n",
       "    </tr>\n",
       "    <tr>\n",
       "      <th>75%</th>\n",
       "      <td>4.000000</td>\n",
       "      <td>8.000000</td>\n",
       "    </tr>\n",
       "    <tr>\n",
       "      <th>max</th>\n",
       "      <td>5.000000</td>\n",
       "      <td>10.000000</td>\n",
       "    </tr>\n",
       "  </tbody>\n",
       "</table>\n",
       "</div>"
      ],
      "text/plain": [
       "       How would you rate your overall satisfaction with your bank?    \\\n",
       "count                                        1889.000000                \n",
       "mean                                            3.615140                \n",
       "std                                             0.829542                \n",
       "min                                             1.000000                \n",
       "25%                                             3.000000                \n",
       "50%                                             4.000000                \n",
       "75%                                             4.000000                \n",
       "max                                             5.000000                \n",
       "\n",
       "       How likely would you recommend your bank to friends/family?  \n",
       "count                                        1889.000000            \n",
       "mean                                            6.617787            \n",
       "std                                             1.924976            \n",
       "min                                             0.000000            \n",
       "25%                                             6.000000            \n",
       "50%                                             7.000000            \n",
       "75%                                             8.000000            \n",
       "max                                            10.000000            "
      ]
     },
     "execution_count": 6,
     "metadata": {},
     "output_type": "execute_result"
    }
   ],
   "source": [
    "x=df.describe()\n",
    "x"
   ]
  },
  {
   "cell_type": "markdown",
   "id": "60a0e917",
   "metadata": {},
   "source": [
    "The summary statistics above we note the existance of null values"
   ]
  },
  {
   "cell_type": "code",
   "execution_count": 7,
   "id": "6be6d709",
   "metadata": {},
   "outputs": [
    {
     "name": "stdout",
     "output_type": "stream",
     "text": [
      "<class 'pandas.core.frame.DataFrame'>\n",
      "RangeIndex: 3263 entries, 0 to 3262\n",
      "Data columns (total 24 columns):\n",
      " #   Column                                                                                                                                                            Non-Null Count  Dtype         \n",
      "---  ------                                                                                                                                                            --------------  -----         \n",
      " 0   Timestamp                                                                                                                                                         3263 non-null   datetime64[ns]\n",
      " 1   Has it become more difficult or easier to find a job in your city?                                                                                                3263 non-null   object        \n",
      " 2   Compared to the last 6 months, are you able to spend more, the same or less money on large purchases (furniture, electrical appliances) over the next 6 months?   3263 non-null   object        \n",
      " 3   How do you expect your (household’s) income to change over the next 6 months?                                                                                     3263 non-null   object        \n",
      " 4   Gender                                                                                                                                                            3263 non-null   object        \n",
      " 5   Age                                                                                                                                                               3263 non-null   object        \n",
      " 6   What's your highest level of education?                                                                                                                           3263 non-null   object        \n",
      " 7   Occupation                                                                                                                                                        3263 non-null   object        \n",
      " 8   Please select your country to continue                                                                                                                            3263 non-null   object        \n",
      " 9   What's your highest level of education? .1                                                                                                                        970 non-null    object        \n",
      " 10  Which one bank do you use the most?                                                                                                                               448 non-null    object        \n",
      " 11  Which one bank do you use the most?.1                                                                                                                             412 non-null    object        \n",
      " 12  Which one of the below banks do you use the most?                                                                                                                 529 non-null    object        \n",
      " 13  Which one of the below banks do you use the most?.1                                                                                                               449 non-null    object        \n",
      " 14  Which one of the below banks do you use the most?.2                                                                                                               398 non-null    object        \n",
      " 15  How would you rate your overall satisfaction with your bank?                                                                                                      1889 non-null   float64       \n",
      " 16  Thinking back over the past year, tell us about something that happened that made you particularly happy with your bank.                                          1855 non-null   object        \n",
      " 17  Thinking back over the past year, tell us about something that happened that made you particularly unhappy with your bank.                                        1830 non-null   object        \n",
      " 18  During the past year, did you recommend your bank to anyone? \t \t                                                                                                  1889 non-null   object        \n",
      " 19  How do you usually find out about new products at the bank                                                                                                        1889 non-null   object        \n",
      " 20  How likely would you recommend your bank to friends/family?                                                                                                       1889 non-null   float64       \n",
      " 21  The below images show a bank website and offering, choose the interface that is easiest to use                                                                    1889 non-null   object        \n",
      " 22  Tell us the reasons behind your choice                                                                                                                            1868 non-null   object        \n",
      " 23  What will make you stay with your bank for the next 2 years ?                                                                                                     1889 non-null   object        \n",
      "dtypes: datetime64[ns](1), float64(2), object(21)\n",
      "memory usage: 611.9+ KB\n"
     ]
    }
   ],
   "source": [
    "df.info()"
   ]
  },
  {
   "cell_type": "markdown",
   "id": "6578fe3f",
   "metadata": {},
   "source": [
    "A **heatmap** to show a visual representation of null values. The **yellow streaks** indicates the presence of null values "
   ]
  },
  {
   "cell_type": "code",
   "execution_count": 8,
   "id": "595080de",
   "metadata": {},
   "outputs": [
    {
     "name": "stderr",
     "output_type": "stream",
     "text": [
      "C:\\Users\\Daniel\\anaconda3\\lib\\site-packages\\matplotlib\\backends\\backend_agg.py:238: RuntimeWarning: Glyph 9 missing from current font.\n",
      "  font.set_text(s, 0.0, flags=flags)\n",
      "C:\\Users\\Daniel\\anaconda3\\lib\\site-packages\\matplotlib\\backends\\backend_agg.py:201: RuntimeWarning: Glyph 9 missing from current font.\n",
      "  font.set_text(s, 0, flags=flags)\n"
     ]
    },
    {
     "data": {
      "text/plain": [
       "<AxesSubplot:>"
      ]
     },
     "execution_count": 8,
     "metadata": {},
     "output_type": "execute_result"
    },
    {
     "data": {
      "image/png": "[encoded data removed]",
      "text/plain": [
       "<Figure size 432x288 with 1 Axes>"
      ]
     },
     "metadata": {
      "needs_background": "light"
     },
     "output_type": "display_data"
    }
   ],
   "source": [
    "sns.heatmap(df.isnull(),yticklabels=False,cbar=False,cmap='viridis')"
   ]
  },
  {
   "cell_type": "markdown",
   "id": "b65dacfe",
   "metadata": {},
   "source": [
    "The **yellow streaks** suggests missing values \n",
    "\n",
    "Let's impute the **null values**"
   ]
  },
  {
   "cell_type": "code",
   "execution_count": 9,
   "id": "6262e142",
   "metadata": {},
   "outputs": [],
   "source": [
    "df.dropna(axis=1,inplace=True)\n",
    "df.to_excel(\"minnie_11.xlsx\")"
   ]
  },
  {
   "cell_type": "markdown",
   "id": "e6ee65ca",
   "metadata": {},
   "source": [
    "Let's eliminate all **leading** & **trailing** white space, but retain the space **inbetween** the text."
   ]
  },
  {
   "cell_type": "code",
   "execution_count": 10,
   "id": "11afb1a0",
   "metadata": {},
   "outputs": [],
   "source": [
    "cols = df.select_dtypes(['object']).columns\n",
    "df[cols] = df[cols].apply(lambda x: x.str.strip())"
   ]
  },
  {
   "cell_type": "markdown",
   "id": "f9b1702b",
   "metadata": {},
   "source": [
    "Let's check if there's any **Repeated values**"
   ]
  },
  {
   "cell_type": "code",
   "execution_count": 11,
   "id": "edb95f67",
   "metadata": {},
   "outputs": [
    {
     "data": {
      "text/plain": [
       "0"
      ]
     },
     "execution_count": 11,
     "metadata": {},
     "output_type": "execute_result"
    }
   ],
   "source": [
    "df.duplicated().sum()"
   ]
  },
  {
   "cell_type": "markdown",
   "id": "a2470e5e",
   "metadata": {},
   "source": [
    "It's clear there are no yellow streaks indicating there's **no more missing values**"
   ]
  },
  {
   "cell_type": "code",
   "execution_count": 12,
   "id": "4355af84",
   "metadata": {},
   "outputs": [
    {
     "data": {
      "text/plain": [
       "<AxesSubplot:>"
      ]
     },
     "execution_count": 12,
     "metadata": {},
     "output_type": "execute_result"
    },
    {
     "data": {
      "image/png": "[encoded data removed]",
      "text/plain": [
       "<Figure size 432x288 with 1 Axes>"
      ]
     },
     "metadata": {
      "needs_background": "light"
     },
     "output_type": "display_data"
    }
   ],
   "source": [
    "sns.heatmap(df.isnull(),yticklabels=False,cbar=False,cmap='viridis')"
   ]
  },
  {
   "cell_type": "markdown",
   "id": "8f4b5976",
   "metadata": {},
   "source": [
    "It's clear the **null values** are no longer there"
   ]
  },
  {
   "cell_type": "code",
   "execution_count": 13,
   "id": "29dc35ec",
   "metadata": {},
   "outputs": [
    {
     "data": {
      "text/plain": [
       "Index(['Timestamp',\n",
       "       'Has it become more difficult or easier to find a job in your city? ',\n",
       "       'Compared to the last 6 months, are you able to spend more, the same or less money on large purchases (furniture, electrical appliances) over the next 6 months? ',\n",
       "       'How do you expect your (household’s) income to change over the next 6 months? ',\n",
       "       'Gender ', 'Age ', 'What's your highest level of education? ',\n",
       "       'Occupation ', 'Please select your country to continue'],\n",
       "      dtype='object')"
      ]
     },
     "execution_count": 13,
     "metadata": {},
     "output_type": "execute_result"
    }
   ],
   "source": [
    "df.columns"
   ]
  },
  {
   "cell_type": "markdown",
   "id": "e82d4cd1",
   "metadata": {},
   "source": [
    "There appears to be **trailing white spaces** in the **column names**.\n",
    "\n",
    "Let's eliminate them"
   ]
  },
  {
   "cell_type": "code",
   "execution_count": 14,
   "id": "9f0c7678",
   "metadata": {},
   "outputs": [],
   "source": [
    "df.columns=df.columns.str.replace(' ','')"
   ]
  },
  {
   "cell_type": "code",
   "execution_count": 15,
   "id": "bd8632c7",
   "metadata": {},
   "outputs": [
    {
     "data": {
      "text/plain": [
       "Index(['Timestamp', 'Hasitbecomemoredifficultoreasiertofindajobinyourcity?',\n",
       "       'Comparedtothelast6months,areyouabletospendmore,thesameorlessmoneyonlargepurchases(furniture,electricalappliances)overthenext6months?',\n",
       "       'Howdoyouexpectyour(household’s)incometochangeoverthenext6months?',\n",
       "       'Gender', 'Age', 'What'syourhighestlevelofeducation?', 'Occupation',\n",
       "       'Pleaseselectyourcountrytocontinue'],\n",
       "      dtype='object')"
      ]
     },
     "execution_count": 15,
     "metadata": {},
     "output_type": "execute_result"
    }
   ],
   "source": [
    "df.columns"
   ]
  },
  {
   "cell_type": "code",
   "execution_count": 16,
   "id": "793cdb0e",
   "metadata": {},
   "outputs": [
    {
     "data": {
      "text/plain": [
       "array(['30-34', '25-29', '45-54', '35-39', '18-24', '55-64',\n",
       "       'less than 17 years', '40-44', '65+'], dtype=object)"
      ]
     },
     "execution_count": 16,
     "metadata": {},
     "output_type": "execute_result"
    }
   ],
   "source": [
    "df['Age'].unique()"
   ]
  },
  {
   "cell_type": "code",
   "execution_count": 17,
   "id": "a5c90bf9",
   "metadata": {},
   "outputs": [
    {
     "data": {
      "text/plain": [
       "array([\"Master's degree\", 'Bachelor’s degree', 'Trade',\n",
       "       'No formal schooling', 'High school diploma', 'Currently studying',\n",
       "       'Doctorate degree', 'High school, no diploma',\n",
       "       'Professional Qualification e.g. CIMA'], dtype=object)"
      ]
     },
     "execution_count": 17,
     "metadata": {},
     "output_type": "execute_result"
    }
   ],
   "source": [
    "df.iloc[:,6].unique()"
   ]
  },
  {
   "cell_type": "code",
   "execution_count": 18,
   "id": "3168634c",
   "metadata": {},
   "outputs": [
    {
     "data": {
      "text/plain": [
       "array(['Improve', 'Stay the same', 'Worsen'], dtype=object)"
      ]
     },
     "execution_count": 18,
     "metadata": {},
     "output_type": "execute_result"
    }
   ],
   "source": [
    "df.iloc[:,3].unique()"
   ]
  },
  {
   "cell_type": "markdown",
   "id": "bfcb46b7",
   "metadata": {},
   "source": [
    "# Pivot Table"
   ]
  },
  {
   "cell_type": "code",
   "execution_count": 25,
   "id": "573f9ab3",
   "metadata": {},
   "outputs": [
    {
     "data": {
      "text/html": [
       "<div>\n",
       "<style scoped>\n",
       "    .dataframe tbody tr th:only-of-type {\n",
       "        vertical-align: middle;\n",
       "    }\n",
       "\n",
       "    .dataframe tbody tr th {\n",
       "        vertical-align: top;\n",
       "    }\n",
       "\n",
       "    .dataframe thead th {\n",
       "        text-align: right;\n",
       "    }\n",
       "</style>\n",
       "<table border=\"1\" class=\"dataframe\">\n",
       "  <thead>\n",
       "    <tr style=\"text-align: right;\">\n",
       "      <th></th>\n",
       "      <th>Comparedtothelast6months,areyouabletospendmore,thesameorlessmoneyonlargepurchases(furniture,electricalappliances)overthenext6months?</th>\n",
       "      <th>Less</th>\n",
       "      <th>More</th>\n",
       "      <th>Same</th>\n",
       "    </tr>\n",
       "    <tr>\n",
       "      <th>Pleaseselectyourcountrytocontinue</th>\n",
       "      <th>Gender</th>\n",
       "      <th></th>\n",
       "      <th></th>\n",
       "      <th></th>\n",
       "    </tr>\n",
       "  </thead>\n",
       "  <tbody>\n",
       "    <tr>\n",
       "      <th rowspan=\"2\" valign=\"top\">Cameroon</th>\n",
       "      <th>Female</th>\n",
       "      <td>30-3435-3925-2940-4440-4440-4435-3930-3430-341...</td>\n",
       "      <td>30-3435-3940-4430-3430-3430-3455-6445-5430-344...</td>\n",
       "      <td>35-3925-2930-34less than 17 years25-2918-2435-...</td>\n",
       "    </tr>\n",
       "    <tr>\n",
       "      <th>Male</th>\n",
       "      <td>40-4440-4435-3940-4440-4430-3430-3435-3930-343...</td>\n",
       "      <td>35-3930-3440-4430-3430-3430-3440-4430-3440-444...</td>\n",
       "      <td>30-3418-2440-4418-2435-3935-3935-3940-4435-394...</td>\n",
       "    </tr>\n",
       "    <tr>\n",
       "      <th rowspan=\"2\" valign=\"top\">Cote d'Ivoire</th>\n",
       "      <th>Female</th>\n",
       "      <td>18-2418-2418-2435-3930-3430-3430-3425-2918-24</td>\n",
       "      <td>18-2435-3918-2425-2925-2925-2940-4425-2925-292...</td>\n",
       "      <td>30-3425-2930-3430-3425-2930-3425-2930-3418-241...</td>\n",
       "    </tr>\n",
       "    <tr>\n",
       "      <th>Male</th>\n",
       "      <td>30-3440-4435-3935-3945-5430-3430-3418-2430-342...</td>\n",
       "      <td>25-2925-2945-5435-3925-2925-2930-3425-2925-293...</td>\n",
       "      <td>35-3925-2935-3918-2435-3935-3940-4430-3440-444...</td>\n",
       "    </tr>\n",
       "    <tr>\n",
       "      <th rowspan=\"2\" valign=\"top\">Ghana</th>\n",
       "      <th>Female</th>\n",
       "      <td>less than 17 years25-2918-2440-4445-5435-3940-...</td>\n",
       "      <td>35-3930-3430-3430-3418-24less than 17 years18-...</td>\n",
       "      <td>25-2935-3918-2425-2930-3430-3440-4418-2435-394...</td>\n",
       "    </tr>\n",
       "    <tr>\n",
       "      <th>Male</th>\n",
       "      <td>25-2940-4435-3945-54less than 17 years18-2440-...</td>\n",
       "      <td>18-2425-2918-2425-2918-2425-2965+less than 17 ...</td>\n",
       "      <td>45-5435-3930-3435-3930-3425-2930-3425-2918-241...</td>\n",
       "    </tr>\n",
       "    <tr>\n",
       "      <th rowspan=\"2\" valign=\"top\">Kenya</th>\n",
       "      <th>Female</th>\n",
       "      <td>18-2425-2925-2918-2418-2418-2430-3425-2918-241...</td>\n",
       "      <td>35-3930-3425-2940-4435-3925-2935-3918-2418-242...</td>\n",
       "      <td>55-6430-3425-2930-3430-3418-2455-6440-4435-393...</td>\n",
       "    </tr>\n",
       "    <tr>\n",
       "      <th>Male</th>\n",
       "      <td>30-3430-3430-3430-3430-3435-3935-3935-3930-342...</td>\n",
       "      <td>45-5435-3935-3940-4425-2945-5425-2918-2425-293...</td>\n",
       "      <td>30-3425-2930-3445-5445-5435-3935-3918-2440-441...</td>\n",
       "    </tr>\n",
       "    <tr>\n",
       "      <th rowspan=\"2\" valign=\"top\">Nigeria</th>\n",
       "      <th>Female</th>\n",
       "      <td>35-3930-3425-2930-3425-2930-3430-3430-3430-342...</td>\n",
       "      <td>30-3430-3430-3430-3418-2435-3918-2425-2925-293...</td>\n",
       "      <td>40-4435-3930-3430-3455-6425-2935-3930-3425-293...</td>\n",
       "    </tr>\n",
       "    <tr>\n",
       "      <th>Male</th>\n",
       "      <td>25-2930-3430-3430-3435-3935-3930-3445-5435-394...</td>\n",
       "      <td>30-3430-3430-3430-3430-3430-3430-3430-3430-343...</td>\n",
       "      <td>25-2925-2935-3925-2925-2925-2918-2418-2418-242...</td>\n",
       "    </tr>\n",
       "    <tr>\n",
       "      <th rowspan=\"2\" valign=\"top\">South Africa</th>\n",
       "      <th>Female</th>\n",
       "      <td>30-3430-3435-3935-39less than 17 years30-3430-...</td>\n",
       "      <td>65+35-3930-3418-2425-2918-2418-2418-2430-3430-...</td>\n",
       "      <td>35-3925-2935-3940-4440-4430-3440-4435-3940-443...</td>\n",
       "    </tr>\n",
       "    <tr>\n",
       "      <th>Male</th>\n",
       "      <td>40-4430-3425-2925-2930-3425-2925-2930-3430-342...</td>\n",
       "      <td>45-5430-3455-6445-54less than 17 years25-2935-...</td>\n",
       "      <td>45-5425-2918-2440-4425-2940-4445-5440-4430-343...</td>\n",
       "    </tr>\n",
       "    <tr>\n",
       "      <th rowspan=\"2\" valign=\"top\">Tanzania</th>\n",
       "      <th>Female</th>\n",
       "      <td>25-2935-3925-2930-3425-2925-2930-3425-2918-242...</td>\n",
       "      <td>25-2925-2935-3930-3425-2930-3430-3425-2925-291...</td>\n",
       "      <td>35-3955-6435-3925-2918-2418-2418-2425-2930-341...</td>\n",
       "    </tr>\n",
       "    <tr>\n",
       "      <th>Male</th>\n",
       "      <td>25-2930-3435-3918-2418-2425-2930-3425-2925-292...</td>\n",
       "      <td>18-2425-2925-2930-3418-2418-2418-2425-2925-292...</td>\n",
       "      <td>25-2925-2930-3418-2430-3418-2418-2425-2925-293...</td>\n",
       "    </tr>\n",
       "  </tbody>\n",
       "</table>\n",
       "</div>"
      ],
      "text/plain": [
       "Comparedtothelast6months,areyouabletospendmore,thesameorlessmoneyonlargepurchases(furniture,electricalappliances)overthenext6months?                                               Less  \\\n",
       "Pleaseselectyourcountrytocontinue Gender                                                                                                                                                  \n",
       "Cameroon                          Female                                                                                              30-3435-3925-2940-4440-4440-4435-3930-3430-341...   \n",
       "                                  Male                                                                                                40-4440-4435-3940-4440-4430-3430-3435-3930-343...   \n",
       "Cote d'Ivoire                     Female                                                                                                  18-2418-2418-2435-3930-3430-3430-3425-2918-24   \n",
       "                                  Male                                                                                                30-3440-4435-3935-3945-5430-3430-3418-2430-342...   \n",
       "Ghana                             Female                                                                                              less than 17 years25-2918-2440-4445-5435-3940-...   \n",
       "                                  Male                                                                                                25-2940-4435-3945-54less than 17 years18-2440-...   \n",
       "Kenya                             Female                                                                                              18-2425-2925-2918-2418-2418-2430-3425-2918-241...   \n",
       "                                  Male                                                                                                30-3430-3430-3430-3430-3435-3935-3935-3930-342...   \n",
       "Nigeria                           Female                                                                                              35-3930-3425-2930-3425-2930-3430-3430-3430-342...   \n",
       "                                  Male                                                                                                25-2930-3430-3430-3435-3935-3930-3445-5435-394...   \n",
       "South Africa                      Female                                                                                              30-3430-3435-3935-39less than 17 years30-3430-...   \n",
       "                                  Male                                                                                                40-4430-3425-2925-2930-3425-2925-2930-3430-342...   \n",
       "Tanzania                          Female                                                                                              25-2935-3925-2930-3425-2925-2930-3425-2918-242...   \n",
       "                                  Male                                                                                                25-2930-3435-3918-2418-2425-2930-3425-2925-292...   \n",
       "\n",
       "Comparedtothelast6months,areyouabletospendmore,thesameorlessmoneyonlargepurchases(furniture,electricalappliances)overthenext6months?                                               More  \\\n",
       "Pleaseselectyourcountrytocontinue Gender                                                                                                                                                  \n",
       "Cameroon                          Female                                                                                              30-3435-3940-4430-3430-3430-3455-6445-5430-344...   \n",
       "                                  Male                                                                                                35-3930-3440-4430-3430-3430-3440-4430-3440-444...   \n",
       "Cote d'Ivoire                     Female                                                                                              18-2435-3918-2425-2925-2925-2940-4425-2925-292...   \n",
       "                                  Male                                                                                                25-2925-2945-5435-3925-2925-2930-3425-2925-293...   \n",
       "Ghana                             Female                                                                                              35-3930-3430-3430-3418-24less than 17 years18-...   \n",
       "                                  Male                                                                                                18-2425-2918-2425-2918-2425-2965+less than 17 ...   \n",
       "Kenya                             Female                                                                                              35-3930-3425-2940-4435-3925-2935-3918-2418-242...   \n",
       "                                  Male                                                                                                45-5435-3935-3940-4425-2945-5425-2918-2425-293...   \n",
       "Nigeria                           Female                                                                                              30-3430-3430-3430-3418-2435-3918-2425-2925-293...   \n",
       "                                  Male                                                                                                30-3430-3430-3430-3430-3430-3430-3430-3430-343...   \n",
       "South Africa                      Female                                                                                              65+35-3930-3418-2425-2918-2418-2418-2430-3430-...   \n",
       "                                  Male                                                                                                45-5430-3455-6445-54less than 17 years25-2935-...   \n",
       "Tanzania                          Female                                                                                              25-2925-2935-3930-3425-2930-3430-3425-2925-291...   \n",
       "                                  Male                                                                                                18-2425-2925-2930-3418-2418-2418-2425-2925-292...   \n",
       "\n",
       "Comparedtothelast6months,areyouabletospendmore,thesameorlessmoneyonlargepurchases(furniture,electricalappliances)overthenext6months?                                               Same  \n",
       "Pleaseselectyourcountrytocontinue Gender                                                                                                                                                 \n",
       "Cameroon                          Female                                                                                              35-3925-2930-34less than 17 years25-2918-2435-...  \n",
       "                                  Male                                                                                                30-3418-2440-4418-2435-3935-3935-3940-4435-394...  \n",
       "Cote d'Ivoire                     Female                                                                                              30-3425-2930-3430-3425-2930-3425-2930-3418-241...  \n",
       "                                  Male                                                                                                35-3925-2935-3918-2435-3935-3940-4430-3440-444...  \n",
       "Ghana                             Female                                                                                              25-2935-3918-2425-2930-3430-3440-4418-2435-394...  \n",
       "                                  Male                                                                                                45-5435-3930-3435-3930-3425-2930-3425-2918-241...  \n",
       "Kenya                             Female                                                                                              55-6430-3425-2930-3430-3418-2455-6440-4435-393...  \n",
       "                                  Male                                                                                                30-3425-2930-3445-5445-5435-3935-3918-2440-441...  \n",
       "Nigeria                           Female                                                                                              40-4435-3930-3430-3455-6425-2935-3930-3425-293...  \n",
       "                                  Male                                                                                                25-2925-2935-3925-2925-2925-2918-2418-2418-242...  \n",
       "South Africa                      Female                                                                                              35-3925-2935-3940-4440-4430-3440-4435-3940-443...  \n",
       "                                  Male                                                                                                45-5425-2918-2440-4425-2940-4445-5440-4430-343...  \n",
       "Tanzania                          Female                                                                                              35-3955-6435-3925-2918-2418-2418-2425-2930-341...  \n",
       "                                  Male                                                                                                25-2925-2930-3418-2430-3418-2418-2425-2925-293...  "
      ]
     },
     "execution_count": 25,
     "metadata": {},
     "output_type": "execute_result"
    }
   ],
   "source": [
    "table_1 = pd.pivot_table(df, values='Age', index=[df.iloc[:,8],'Gender'],\n",
    "                    columns=df.iloc[:,2],aggfunc=np.sum)\n",
    "table_1"
   ]
  },
  {
   "cell_type": "code",
   "execution_count": 20,
   "id": "a695876d",
   "metadata": {},
   "outputs": [
    {
     "data": {
      "text/plain": [
       "array(['Cameroon', 'Nigeria', 'South Africa', 'Tanzania', \"Cote d'Ivoire\",\n",
       "       'Kenya', 'Ghana'], dtype=object)"
      ]
     },
     "execution_count": 20,
     "metadata": {},
     "output_type": "execute_result"
    }
   ],
   "source": [
    "df.iloc[:,8].unique()"
   ]
  },
  {
   "cell_type": "markdown",
   "id": "85d06f7e",
   "metadata": {},
   "source": [
    "# A function for categorical features only"
   ]
  },
  {
   "cell_type": "code",
   "execution_count": 21,
   "id": "4f46fb30",
   "metadata": {},
   "outputs": [
    {
     "data": {
      "text/plain": [
       "['Hasitbecomemoredifficultoreasiertofindajobinyourcity?',\n",
       " 'Comparedtothelast6months,areyouabletospendmore,thesameorlessmoneyonlargepurchases(furniture,electricalappliances)overthenext6months?',\n",
       " 'Howdoyouexpectyour(household’s)incometochangeoverthenext6months?',\n",
       " 'Gender',\n",
       " 'Age',\n",
       " \"What'syourhighestlevelofeducation?\",\n",
       " 'Occupation',\n",
       " 'Pleaseselectyourcountrytocontinue']"
      ]
     },
     "execution_count": 21,
     "metadata": {},
     "output_type": "execute_result"
    }
   ],
   "source": [
    "cat_cols=[col for col in df.columns if (df[col].dtypes=='O')]\n",
    "cat_cols"
   ]
  },
  {
   "cell_type": "code",
   "execution_count": 22,
   "id": "9ab9be66",
   "metadata": {},
   "outputs": [],
   "source": [
    "from sklearn.compose import ColumnTransformer\n",
    "from sklearn.pipeline import Pipeline\n",
    "from sklearn.preprocessing import OneHotEncoder\n",
    "ohe=OneHotEncoder()\n",
    "pp_cat=Pipeline([\n",
    "    ('ohe_cat',OneHotEncoder(sparse=False,handle_unknown='ignore')) #setting \"sparse=False\" means OneHoteEncoder will return an array, but not a sparse matrix\n",
    "])"
   ]
  },
  {
   "cell_type": "code",
   "execution_count": 23,
   "id": "b0f8447c",
   "metadata": {},
   "outputs": [],
   "source": [
    "ct=ColumnTransformer([ \n",
    "    ('pp_cat',pp_cat,cat_cols)\n",
    "])"
   ]
  },
  {
   "cell_type": "code",
   "execution_count": 24,
   "id": "cd38bdd7",
   "metadata": {},
   "outputs": [],
   "source": [
    "xt=ct.fit_transform(df)"
   ]
  }
 ],
 "metadata": {
  "kernelspec": {
   "display_name": "Python 3",
   "language": "python",
   "name": "python3"
  },
  "language_info": {
   "codemirror_mode": {
    "name": "ipython",
    "version": 3
   },
   "file_extension": ".py",
   "mimetype": "text/x-python",
   "name": "python",
   "nbconvert_exporter": "python",
   "pygments_lexer": "ipython3",
   "version": "3.8.8"
  }
 },
 "nbformat": 4,
 "nbformat_minor": 5
}
